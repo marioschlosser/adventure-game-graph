{
  "nbformat": 4,
  "nbformat_minor": 0,
  "metadata": {
    "colab": {
      "provenance": [],
      "authorship_tag": "ABX9TyOqHGvEP5EkZFViILFbWBei",
      "include_colab_link": true
    },
    "kernelspec": {
      "name": "python3",
      "display_name": "Python 3"
    },
    "language_info": {
      "name": "python"
    }
  },
  "cells": [
    {
      "cell_type": "markdown",
      "metadata": {
        "id": "view-in-github",
        "colab_type": "text"
      },
      "source": [
        "<a href=\"https://colab.research.google.com/github/marioschlosser/adventure-game-graph/blob/main/Custom_GPT_Adventure_Game.ipynb\" target=\"_parent\"><img src=\"https://colab.research.google.com/assets/colab-badge.svg\" alt=\"Open In Colab\"/></a>"
      ]
    },
    {
      "cell_type": "code",
      "source": [
        "import random\n",
        "import numpy as np"
      ],
      "metadata": {
        "id": "p-bzxCnHZuH6"
      },
      "execution_count": 1,
      "outputs": []
    },
    {
      "cell_type": "code",
      "execution_count": 35,
      "metadata": {
        "id": "r4nKkxNMFRY3"
      },
      "outputs": [],
      "source": [
        "# @title Configure the adventure game graph\n",
        "\n",
        "# the max number of in-links for a node from new nodes\n",
        "#max_in_new = 2 # @param {type:\"integer\"}\n",
        "# the max number of in-links for a node from existing nodes\n",
        "#max_in_existing = 1 # @param {type:\"integer\"}\n",
        "\n",
        "# probability distribution for in-links of a node, from new nodes\n",
        "p_in_new = [0, 0.7, 0.25, 0.05] # @param {type:\"raw\"}\n",
        "\n",
        "# probability distribution for in-links of a node, from existing nodes\n",
        "p_in_existing = [0.7, 0.3] # @param {type:\"raw\"}\n",
        "\n",
        "# total number of nodes for the graph\n",
        "num_nodes_max = 10 # @param {type:\"integer\"}\n",
        "\n",
        "# the number of initially accessible rooms\n",
        "num_rooms_initial = 3 # @param {type:\"integer\"}\n",
        "\n",
        "# the number of rooms in total\n",
        "num_rooms_total = 5 # @param {type:\"integer\"}\n",
        "\n",
        "def add_ancestor(node, ancestor):\n",
        "    # add ancestor to node's list of ancestors, but only if it isn't already in the list\n",
        "    if ancestor not in node_ancestors[node]:\n",
        "        node_ancestors[node].append(ancestor)\n",
        "\n",
        "    # compile list of out-links for this node: this is the list of nodes for which node is an in-link\n",
        "    node_out = []\n",
        "    for other_node in range(0, len(node_in)):\n",
        "        if node in node_in[other_node]:\n",
        "            node_out.append(other_node)\n",
        "\n",
        "    # call add_ancestor for all out-links of this node\n",
        "    for other_node in node_out:\n",
        "        add_ancestor(other_node, ancestor)"
      ]
    },
    {
      "cell_type": "code",
      "source": [
        "# @title Initialize the puzzle graph generator\n",
        "\n",
        "# the in-links for each node: the set of nodes that directly drive this node\n",
        "node_in = [[]]\n",
        "# the ancestors of each node: the set of nodes that directly and indirectly drive this node\n",
        "node_ancestors = [[]]\n",
        "# the room that each node is in\n",
        "node_room = [0]\n",
        "# the set of nodes that are rooms\n",
        "rooms = []"
      ],
      "metadata": {
        "id": "NN63fAdDFqKL"
      },
      "execution_count": 36,
      "outputs": []
    },
    {
      "cell_type": "code",
      "source": [
        "# @title Create the puzzle graph\n",
        "\n",
        "num_nodes = 0\n",
        "\n",
        "for node in range(0, num_nodes_max):\n",
        "    # generate a random number of in-links for this new node from new nodes\n",
        "    num_new_in = np.random.choice(len(p_in_new), 1, p=p_in_new)[0]\n",
        "    # generate a random number of in-links for this node from existing nodes\n",
        "    num_existing_in = np.random.choice(len(p_in_existing), 1, p=p_in_existing)[0]\n",
        "\n",
        "    # create range of numbers: node to node + num_new_in to new_in\n",
        "    new_in = list(range(len(node_in), len(node_in) + num_new_in))\n",
        "\n",
        "    # increase node count by newly generated nodes\n",
        "    num_nodes += num_new_in\n",
        "\n",
        "    # create the in-links lists for num_new_in nodes\n",
        "    for i in range(0, num_new_in):\n",
        "        node_in.append([])\n",
        "        node_ancestors.append([])\n",
        "        node_room.append(None)\n",
        "\n",
        "    # add that list to the current node's in-links\n",
        "    node_in[node] = new_in\n",
        "\n",
        "    # create empty list of ancestors for this node\n",
        "    node_ancestors[node] = []\n",
        "\n",
        "    # update ancestors for this node recursively\n",
        "    add_ancestor(node, node)\n",
        "\n",
        "    # generate list of all existing nodes where node isn't an ancestor\n",
        "    existing_nodes = []\n",
        "    for i in range(0, node):\n",
        "        if node not in node_ancestors[i]:\n",
        "            existing_nodes.append(i)\n",
        "\n",
        "    # pick num_existing_in nodes from that list randomly\n",
        "    existing_in = random.sample(existing_nodes, min(num_existing_in, len(existing_nodes)))\n",
        "\n",
        "    # add that list to the current node's in-links\n",
        "    node_in[node] += existing_in"
      ],
      "metadata": {
        "id": "fFyOZKApFu6T"
      },
      "execution_count": 37,
      "outputs": []
    },
    {
      "cell_type": "code",
      "source": [
        "# show the graph\n",
        "print(\"Here is the graph without rooms:\")\n",
        "print(node_in)"
      ],
      "metadata": {
        "colab": {
          "base_uri": "https://localhost:8080/"
        },
        "id": "yyQw0GaeGByi",
        "outputId": "ac7b0532-f205-4983-e90d-d83d0e19f789"
      },
      "execution_count": 38,
      "outputs": [
        {
          "output_type": "stream",
          "name": "stdout",
          "text": [
            "Here is the graph without rooms:\n",
            "[[1], [2], [3], [4, 5], [6, 7], [8, 9], [10, 5], [11], [12], [13], [], [], [], []]\n"
          ]
        }
      ]
    },
    {
      "cell_type": "code",
      "source": [
        "# @title Add the initially accessible rooms to the game\n",
        "\n",
        "# create list of non-leaf nodes\n",
        "non_leaf_nodes = [i for i, sublist in enumerate(node_in) if sublist]\n",
        "\n",
        "# get the list of leaf nodes: all remaining rooms\n",
        "leaf_nodes = [element for element in range(0, len(node_in)) if element not in non_leaf_nodes]\n",
        "\n",
        "# average number of leaf nodes connected to an initial room, rounded up\n",
        "avg_leaf_nodes_per_room = int(np.ceil(len(leaf_nodes) / num_rooms_initial))\n",
        "\n",
        "# create the initial rooms and add them to the graph\n",
        "for i in range(0, num_rooms_initial):\n",
        "    # create new node\n",
        "    node_in.append([])\n",
        "    node_ancestors.append([])\n",
        "    node_room.append(None)\n",
        "    room = len(node_in) - 1\n",
        "\n",
        "    # this node is a room, so its room is just itself\n",
        "    node_room[room] = room\n",
        "\n",
        "    # add to the list of rooms\n",
        "    rooms.append(room)\n",
        "\n",
        "# go through the leaf nodes and add them to the initial rooms randomly\n",
        "for leaf_node in leaf_nodes:\n",
        "    # pick a random initial room\n",
        "    room = random.choice(rooms)\n",
        "\n",
        "    # add the leaf node to the room\n",
        "    node_in[leaf_node].append(room)\n",
        "    add_ancestor(leaf_node, room)"
      ],
      "metadata": {
        "id": "hrbU1Vf9Fw5a"
      },
      "execution_count": 39,
      "outputs": []
    },
    {
      "cell_type": "code",
      "source": [
        "# @title Add the rooms that unlock during the game\n",
        "\n",
        "# the number of rooms to unlock during the game\n",
        "num_unlocked_rooms = num_rooms_total - num_rooms_initial\n",
        "\n",
        "# remove the final node from the list of non-leaf nodes because we can't touch it\n",
        "#non_leaf_nodes.remove(0)\n",
        "\n",
        "# pick this number of non-leaf nodes and make them rooms\n",
        "for i in range(0, num_unlocked_rooms):\n",
        "    # pick a random non-leaf node from the list that excludes node 0\n",
        "    room = random.choice(non_leaf_nodes)\n",
        "\n",
        "    # add the room to the list of rooms\n",
        "    rooms.append(room)\n",
        "\n",
        "    # this node is a room, so its room is just itself\n",
        "    node_room[room] = room\n",
        "\n",
        "    # remove the room from the list of non-leaf nodes\n",
        "    non_leaf_nodes.remove(room)"
      ],
      "metadata": {
        "id": "ksY87t-VF2Vk"
      },
      "execution_count": 40,
      "outputs": []
    },
    {
      "cell_type": "code",
      "source": [
        "# @title Link all puzzle nodes to rooms\n",
        "\n",
        "# set all puzzle nodes to rooms\n",
        "for node in range(0, len(node_in)):\n",
        "    # skip nodes that are already rooms\n",
        "    if node in rooms:\n",
        "        continue\n",
        "\n",
        "    # pick a room node that is in this node's ancestors\n",
        "    room = random.choice([ancestor for ancestor in node_ancestors[node] if ancestor in rooms])\n",
        "    # set this as this node's room\n",
        "    node_room[node] = room"
      ],
      "metadata": {
        "id": "UdXuTSmIF6WV"
      },
      "execution_count": 41,
      "outputs": []
    },
    {
      "cell_type": "code",
      "source": [
        "# @title Generate the room connections\n",
        "\n",
        "# room connections for all nodes\n",
        "node_connections = [[] for i in node_in]\n",
        "\n",
        "# rooms with at least one connection: initially just the first room\n",
        "rooms_with_connections = [rooms[0]]\n",
        "\n",
        "# connect the leaf rooms to each other\n",
        "for room in rooms:\n",
        "    # only rooms that don't have connections yet\n",
        "    if room not in rooms_with_connections:\n",
        "        # pick one room among those rooms with at least one connection\n",
        "        other_room = random.choice(rooms_with_connections)\n",
        "        node_connections[room].append(other_room)\n",
        "        node_connections[other_room].append(room)\n",
        "\n",
        "        # add this room to the list of rooms with at least one connection\n",
        "        rooms_with_connections.append(room)\n",
        "\n",
        "# iterate through all room nodes\n",
        "for room in rooms:\n",
        "    # only non-leaf rooms\n",
        "    if len(node_in[room]) > 0:\n",
        "        # only rooms that don't have connections yet\n",
        "        if room not in rooms_with_connections:\n",
        "            # get the actions that unlock the room\n",
        "            room_actions = node_in[room]\n",
        "\n",
        "            # pick one of the unlocking actions at random and get the room it is in\n",
        "            random_action = random.choice(room_actions)\n",
        "            unlocking_room = node_room[random_action]\n",
        "\n",
        "            # now create a connection to that room, and the other way around\n",
        "            node_connections[room].append(unlocking_room)\n",
        "            node_connections[unlocking_room].append(room)"
      ],
      "metadata": {
        "id": "kdUvqug4Dnj8"
      },
      "execution_count": 42,
      "outputs": []
    },
    {
      "cell_type": "code",
      "source": [
        "print(\"Here is the graph with rooms:\")\n",
        "print(node_in)\n",
        "print(\"Here are the room nodes:\")\n",
        "print(rooms)\n",
        "print(\"Here is the room for each node:\")\n",
        "print(node_room)\n",
        "\n",
        "# non_rooms is the set of nodes that are not rooms\n",
        "non_rooms = [node for node in range(len(node_in)) if node not in rooms]\n",
        "\n",
        "# create the node names\n",
        "node_name = {node: \"Room\" + chr(ord('A') + rooms.index(node)) if node in rooms else \"Action\" + str(len(non_rooms) - non_rooms.index(node)) for node in range(len(node_in))}\n",
        "# set the name for the final node\n",
        "node_name[0] = \"Game End\""
      ],
      "metadata": {
        "colab": {
          "base_uri": "https://localhost:8080/"
        },
        "id": "ID8XRy2-GKvK",
        "outputId": "58ead0d2-6919-4ec2-89be-670f1a99373c"
      },
      "execution_count": 43,
      "outputs": [
        {
          "output_type": "stream",
          "name": "stdout",
          "text": [
            "Here is the graph with rooms:\n",
            "[[1], [2], [3], [4, 5], [6, 7], [8, 9], [10, 5], [11], [12], [13], [16], [14], [14], [15], [], [], []]\n",
            "Here are the room nodes:\n",
            "[14, 15, 16, 8, 4]\n",
            "Here is the room for each node:\n",
            "[14, 8, 16, 8, 4, 15, 16, 14, 8, 15, 16, 14, 14, 15, 14, 15, 16]\n"
          ]
        }
      ]
    },
    {
      "cell_type": "code",
      "source": [
        "# @title Print out the adventure game graph\n",
        "\n",
        "print(\"Adventure game graph in plain text:\")\n",
        "for node in range(len(node_in)):\n",
        "    # create list of all in-link names for this node\n",
        "    node_in_names = []\n",
        "    for other_node in node_in[node]:\n",
        "        # only append non-rooms for conditions\n",
        "        if other_node in non_rooms:\n",
        "            node_in_names.append(node_name[other_node])\n",
        "\n",
        "    required = \", \".join(node_in_names)\n",
        "    required = \"nothing\" if required == \"\" else \"unlocking \" + required\n",
        "\n",
        "    if node in non_rooms:\n",
        "        print(f\"{node_name[node]} is available in {node_name[node_room[node]]} and requires\", required)\n",
        "    else:\n",
        "        print(f\"{node_name[node]} requires\", required)\n",
        "\n",
        "print(\"Adventure game graph in JSON:\")\n",
        "# json string lists for actions and rooms\n",
        "json_actions = []\n",
        "json_rooms = []\n",
        "\n",
        "# go backwards through all nodes\n",
        "for node in reversed(range(len(node_in))):\n",
        "    # create list of all in-link names for this node\n",
        "    node_in_names = []\n",
        "    for other_node in node_in[node]:\n",
        "        # only append non-rooms for conditions\n",
        "        if other_node in non_rooms:\n",
        "            node_in_names.append(node_name[other_node])\n",
        "\n",
        "    # concatenate node names by enclosing each in ' and separating with ,\n",
        "    required = \", \".join([f\"'{name}'\" for name in node_in_names])\n",
        "\n",
        "    # if room:\n",
        "    if node in rooms:\n",
        "        # get all the room's connections\n",
        "        connections = node_connections[node]\n",
        "        # concatenate room names\n",
        "        connected = \", \".join([f\"'{node_name[room]}'\" for room in connections])\n",
        "\n",
        "        # json string has this format: {'Room1': {'name': 'TBD', 'connected': [], 'Room1', 'required': ['Action2', 'Action3']}}\n",
        "        json_rooms.append(f\"'{node_name[node]}': {{'name': 'TBD', 'connected': [{connected}], 'required': [{required}]}}\")\n",
        "    else:\n",
        "        # json string has this format: {'Action1': {'name': 'TBD', 'room': 'Room1', 'required': ['Action2', 'Action3']}}\n",
        "        json_actions.append(f\"'{node_name[node]}': {{'name': 'TBD', 'room': '{node_name[node_room[node]]}', 'required': [{required}]}}\")\n",
        "\n",
        "# print the json strings\n",
        "print(\"actions_available = {\")\n",
        "print(\",\\n\".join(json_actions))\n",
        "print(\"}\")\n",
        "print(\"rooms_available = {\")\n",
        "print(\",\\n\".join(json_rooms))\n",
        "print(\"}\")"
      ],
      "metadata": {
        "colab": {
          "base_uri": "https://localhost:8080/"
        },
        "id": "mngzNM6hGWw0",
        "outputId": "06300926-cb5f-49dc-86f0-62edaf7cb0b0"
      },
      "execution_count": 44,
      "outputs": [
        {
          "output_type": "stream",
          "name": "stdout",
          "text": [
            "Adventure game graph in plain text:\n",
            "Game End is available in RoomA and requires unlocking Action11\n",
            "Action11 is available in RoomD and requires unlocking Action10\n",
            "Action10 is available in RoomC and requires unlocking Action9\n",
            "Action9 is available in RoomD and requires unlocking Action8\n",
            "RoomE requires unlocking Action7, Action6\n",
            "Action8 is available in RoomB and requires unlocking Action5\n",
            "Action7 is available in RoomC and requires unlocking Action4, Action8\n",
            "Action6 is available in RoomA and requires unlocking Action3\n",
            "RoomD requires unlocking Action2\n",
            "Action5 is available in RoomB and requires unlocking Action1\n",
            "Action4 is available in RoomC and requires nothing\n",
            "Action3 is available in RoomA and requires nothing\n",
            "Action2 is available in RoomA and requires nothing\n",
            "Action1 is available in RoomB and requires nothing\n",
            "RoomA requires nothing\n",
            "RoomB requires nothing\n",
            "RoomC requires nothing\n",
            "Adventure game graph in JSON:\n",
            "actions_available = {\n",
            "'Action1': {'name': 'TBD', 'room': 'RoomB', 'required': []},\n",
            "'Action2': {'name': 'TBD', 'room': 'RoomA', 'required': []},\n",
            "'Action3': {'name': 'TBD', 'room': 'RoomA', 'required': []},\n",
            "'Action4': {'name': 'TBD', 'room': 'RoomC', 'required': []},\n",
            "'Action5': {'name': 'TBD', 'room': 'RoomB', 'required': ['Action1']},\n",
            "'Action6': {'name': 'TBD', 'room': 'RoomA', 'required': ['Action3']},\n",
            "'Action7': {'name': 'TBD', 'room': 'RoomC', 'required': ['Action4', 'Action8']},\n",
            "'Action8': {'name': 'TBD', 'room': 'RoomB', 'required': ['Action5']},\n",
            "'Action9': {'name': 'TBD', 'room': 'RoomD', 'required': ['Action8']},\n",
            "'Action10': {'name': 'TBD', 'room': 'RoomC', 'required': ['Action9']},\n",
            "'Action11': {'name': 'TBD', 'room': 'RoomD', 'required': ['Action10']},\n",
            "'Game End': {'name': 'TBD', 'room': 'RoomA', 'required': ['Action11']}\n",
            "}\n",
            "rooms_available = {\n",
            "'RoomC': {'name': 'TBD', 'connected': ['RoomB', 'RoomE'], 'required': []},\n",
            "'RoomB': {'name': 'TBD', 'connected': ['RoomA', 'RoomC', 'RoomD'], 'required': []},\n",
            "'RoomA': {'name': 'TBD', 'connected': ['RoomB'], 'required': []},\n",
            "'RoomD': {'name': 'TBD', 'connected': ['RoomB'], 'required': ['Action2']},\n",
            "'RoomE': {'name': 'TBD', 'connected': ['RoomC'], 'required': ['Action7', 'Action6']}\n",
            "}\n"
          ]
        }
      ]
    },
    {
      "cell_type": "code",
      "source": [
        "# @title Visualize the adventure game graph\n",
        "\n",
        "import networkx as nx\n",
        "import matplotlib.pyplot as plt\n",
        "#import scipy\n",
        "\n",
        "def draw_network(G, pos, node_color, node_shape, node_name):\n",
        "    fig, ax = plt.subplots()\n",
        "\n",
        "    # Draw edges\n",
        "    nx.draw_networkx_edges(G, pos, ax=ax)\n",
        "\n",
        "    # Draw nodes with specified shapes and colors\n",
        "    for (node, color), (node, shape) in zip(node_color.items(), node_shape.items()):\n",
        "        # if node is a room, draw it as a square\n",
        "        nx.draw_networkx_nodes(G, pos, nodelist=[node], node_color=color, node_shape=shape, ax=ax)\n",
        "\n",
        "    # Draw custom labels\n",
        "    nx.draw_networkx_labels(G, pos, labels=node_name, ax=ax)\n",
        "\n",
        "    plt.axis('off')\n",
        "    plt.show()\n",
        "\n",
        "# turn lists into dict\n",
        "node_room = {node: room for node, room in enumerate(node_room)}\n",
        "# create dict of nodes for shape: o is for rooms, s is for puzzles\n",
        "node_shape = {node: 'o' if node in rooms else 's' for node in range(len(node_in))}\n",
        "# create dict of node colors\n",
        "node_color = {node: plt.cm.rainbow(rooms.index(node_room[node]) / len(rooms)) for node in range(len(node_in))}\n",
        "\n",
        "G = nx.DiGraph()\n",
        "for node, links in enumerate(node_in):\n",
        "    G.add_node(node)\n",
        "    for target in links:\n",
        "        G.add_edge(target, node)"
      ],
      "metadata": {
        "id": "4pc_mydOb-Nl"
      },
      "execution_count": 45,
      "outputs": []
    },
    {
      "cell_type": "code",
      "source": [
        "#pos = nx.spring_layout(G, k=0.5, iterations=50)\n",
        "pos = nx.kamada_kawai_layout(G, scale=10)\n",
        "\n",
        "# make sure the final node is at the top\n",
        "#pos[0] = np.array([0, 1])\n",
        "# the node y coordinate depends on the number of steps the node is away from node 0\n",
        "#for node in range(1, len(node_in)):\n",
        "#    pos[node] = np.array([pos[node][0], 0.1 * len(node_ancestors[node])])\n",
        "\n",
        "# multiply all positions by 3\n",
        "#pos = {node: pos[node] * 3 for node in pos}\n",
        "\n",
        "print(\"Rooms are circles, puzzles are squares. The color of each node is the node's associated room (for puzzles: which rooms they take place in).\")\n",
        "draw_network(G, pos, node_color, node_shape, node_name)"
      ],
      "metadata": {
        "colab": {
          "base_uri": "https://localhost:8080/",
          "height": 424
        },
        "id": "UZPxADEAGYru",
        "outputId": "3b6fab12-46d7-49cb-b840-f7f8e81f3db6"
      },
      "execution_count": 52,
      "outputs": [
        {
          "output_type": "stream",
          "name": "stdout",
          "text": [
            "Rooms are circles, puzzles are squares. The color of each node is the node's associated room (for puzzles: which rooms they take place in).\n"
          ]
        },
        {
          "output_type": "display_data",
          "data": {
            "text/plain": [
              "<Figure size 640x480 with 1 Axes>"
            ],
            "image/png": "[encoded data removed]"
          },
          "metadata": {}
        }
      ]
    }
  ]
}