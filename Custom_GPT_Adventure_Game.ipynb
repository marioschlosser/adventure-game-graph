{
  "nbformat": 4,
  "nbformat_minor": 0,
  "metadata": {
    "colab": {
      "provenance": [],
      "authorship_tag": "ABX9TyP96WVhoyE/VhXR+ZR84tGm",
      "include_colab_link": true
    },
    "kernelspec": {
      "name": "python3",
      "display_name": "Python 3"
    },
    "language_info": {
      "name": "python"
    }
  },
  "cells": [
    {
      "cell_type": "markdown",
      "metadata": {
        "id": "view-in-github",
        "colab_type": "text"
      },
      "source": [
        "<a href=\"https://colab.research.google.com/github/marioschlosser/adventure-game-graph/blob/main/Custom_GPT_Adventure_Game.ipynb\" target=\"_parent\"><img src=\"https://colab.research.google.com/assets/colab-badge.svg\" alt=\"Open In Colab\"/></a>"
      ]
    },
    {
      "cell_type": "code",
      "execution_count": 14,
      "metadata": {
        "id": "r4nKkxNMFRY3"
      },
      "outputs": [],
      "source": [
        "import random\n",
        "import numpy as np\n",
        "import networkx as nx\n",
        "import matplotlib.pyplot as plt\n",
        "import scipy\n",
        "\n",
        "# @title Configure the adventure game graph\n",
        "\n",
        "# the max number of in-links for a node from new nodes\n",
        "max_in_new = 3 # @param {type:\"integer\"}\n",
        "\n",
        "# the max number of in-links for a node from existing nodes\n",
        "max_in_existing = 2 # @param {type:\"integer\"}\n",
        "\n",
        "# the base number of nodes in the graph\n",
        "num_nodes = 5 # @param {type:\"integer\"}\n",
        "\n",
        "# the number of initially accessible rooms\n",
        "num_rooms_initial = 3 # @param {type:\"integer\"}\n",
        "\n",
        "# the number of rooms in total\n",
        "num_rooms_total = 5 # @param {type:\"integer\"}\n",
        "\n",
        "def add_ancestor(node, ancestor):\n",
        "    # add ancestor to node's list of ancestors, but only if it isn't already in the list\n",
        "    if ancestor not in node_ancestors[node]:\n",
        "        node_ancestors[node].append(ancestor)\n",
        "\n",
        "    # compile list of out-links for this node: this is the list of nodes for which node is an in-link\n",
        "    node_out = []\n",
        "    for other_node in range(0, len(node_in)):\n",
        "        if node in node_in[other_node]:\n",
        "            node_out.append(other_node)\n",
        "\n",
        "    # call add_ancestor for all out-links of this node\n",
        "    for other_node in node_out:\n",
        "        add_ancestor(other_node, ancestor)"
      ]
    },
    {
      "cell_type": "code",
      "source": [
        "# @title Initialize the puzzle graph generator\n",
        "\n",
        "# the in-links for each node: the set of nodes that directly drive this node\n",
        "node_in = [[]]\n",
        "# the ancestors of each node: the set of nodes that directly and indirectly drive this node\n",
        "node_ancestors = [[]]\n",
        "# the room that each node is in\n",
        "node_room = [0]\n",
        "# the set of nodes that are rooms\n",
        "rooms = []"
      ],
      "metadata": {
        "id": "NN63fAdDFqKL"
      },
      "execution_count": 15,
      "outputs": []
    },
    {
      "cell_type": "code",
      "source": [
        "# @title Create the puzzle graph\n",
        "\n",
        "for node in range(0, num_nodes):\n",
        "    # generate a random number of in-links for this new node from new nodes\n",
        "    num_new_in = random.randint(1, max_in_new)\n",
        "    # generate a random number of in-links for this node from existing nodes\n",
        "    num_existing_in = random.randint(0, max_in_existing)\n",
        "\n",
        "    # create range of numbers: node to node + num_new_in to new_in\n",
        "    new_in = list(range(len(node_in), len(node_in) + num_new_in))\n",
        "\n",
        "    # create the in-links lists for num_new_in nodes\n",
        "    for i in range(0, num_new_in):\n",
        "        node_in.append([])\n",
        "        node_ancestors.append([])\n",
        "        node_room.append(None)\n",
        "\n",
        "    # add that list to the current node's in-links\n",
        "    node_in[node] = new_in\n",
        "\n",
        "    # create empty list of ancestors for this node\n",
        "    node_ancestors[node] = []\n",
        "\n",
        "    # update ancestors for this node recursively\n",
        "    add_ancestor(node, node)\n",
        "\n",
        "    # generate list of all existing nodes where node isn't an ancestor\n",
        "    existing_nodes = []\n",
        "    for i in range(0, node):\n",
        "        if node not in node_ancestors[i]:\n",
        "            existing_nodes.append(i)\n",
        "\n",
        "    # pick num_existing_in nodes from that list randomly\n",
        "    existing_in = random.sample(existing_nodes, min(num_existing_in, len(existing_nodes)))\n",
        "\n",
        "    # add that list to the current node's in-links\n",
        "    node_in[node] += existing_in"
      ],
      "metadata": {
        "id": "fFyOZKApFu6T"
      },
      "execution_count": 16,
      "outputs": []
    },
    {
      "cell_type": "code",
      "source": [
        "# show the graph\n",
        "print(\"Here is the graph without rooms:\")\n",
        "print(node_in)"
      ],
      "metadata": {
        "colab": {
          "base_uri": "https://localhost:8080/"
        },
        "id": "yyQw0GaeGByi",
        "outputId": "6ea1ff71-983c-46a0-efd5-add6327e8da0"
      },
      "execution_count": 17,
      "outputs": [
        {
          "output_type": "stream",
          "name": "stdout",
          "text": [
            "Here is the graph without rooms:\n",
            "[[1], [2, 3, 4], [5], [6, 7, 8], [9, 2], [], [], [], [], []]\n"
          ]
        }
      ]
    },
    {
      "cell_type": "code",
      "source": [
        "# @title Add the initially accessible rooms to the game\n",
        "\n",
        "# create list of non-leaf nodes\n",
        "non_leaf_nodes = [i for i, sublist in enumerate(node_in) if sublist]\n",
        "\n",
        "# get the list of leaf nodes: all remaining rooms\n",
        "leaf_nodes = [element for element in range(0, len(node_in)) if element not in non_leaf_nodes]\n",
        "\n",
        "# average number of leaf nodes connected to an initial room, rounded up\n",
        "avg_leaf_nodes_per_room = int(np.ceil(len(leaf_nodes) / num_rooms_initial))\n",
        "\n",
        "# create the initial rooms and add them to the graph\n",
        "for i in range(0, num_rooms_initial):\n",
        "    # create new node\n",
        "    node_in.append([])\n",
        "    node_ancestors.append([])\n",
        "    node_room.append(None)\n",
        "    room = len(node_in) - 1\n",
        "\n",
        "    # this node is a room, so its room is just itself\n",
        "    node_room[room] = room\n",
        "\n",
        "    # add to the list of rooms\n",
        "    rooms.append(room)\n",
        "\n",
        "# go through the leaf nodes and add them to the initial rooms randomly\n",
        "for leaf_node in leaf_nodes:\n",
        "    # pick a random initial room\n",
        "    room = random.choice(rooms)\n",
        "\n",
        "    # add the leaf node to the room\n",
        "    node_in[leaf_node].append(room)\n",
        "    add_ancestor(leaf_node, room)"
      ],
      "metadata": {
        "id": "hrbU1Vf9Fw5a"
      },
      "execution_count": 18,
      "outputs": []
    },
    {
      "cell_type": "code",
      "source": [
        "# @title Add the rooms that unlock during the game\n",
        "\n",
        "# the number of rooms to unlock during the game\n",
        "num_unlocked_rooms = num_rooms_total - num_rooms_initial\n",
        "\n",
        "# pick this number of non-leaf nodes and make them rooms\n",
        "for i in range(0, num_unlocked_rooms):\n",
        "    # pick a random non-leaf node\n",
        "    room = random.choice(non_leaf_nodes)\n",
        "\n",
        "    # add the room to the list of rooms\n",
        "    rooms.append(room)\n",
        "\n",
        "    # this node is a room, so its room is just itself\n",
        "    node_room[room] = room\n",
        "\n",
        "    # remove the room from the list of non-leaf nodes\n",
        "    non_leaf_nodes.remove(room)"
      ],
      "metadata": {
        "id": "ksY87t-VF2Vk"
      },
      "execution_count": 19,
      "outputs": []
    },
    {
      "cell_type": "code",
      "source": [
        "# @title Link all puzzle nodes to rooms\n",
        "\n",
        "# set all puzzle nodes to rooms\n",
        "for node in range(0, len(node_in)):\n",
        "    # skip nodes that are already rooms\n",
        "    if node in rooms:\n",
        "        continue\n",
        "\n",
        "    # pick a room node that is in this node's ancestors\n",
        "    room = random.choice([ancestor for ancestor in node_ancestors[node] if ancestor in rooms])\n",
        "    # set this as this node's room\n",
        "    node_room[node] = room"
      ],
      "metadata": {
        "id": "UdXuTSmIF6WV"
      },
      "execution_count": 20,
      "outputs": []
    },
    {
      "cell_type": "code",
      "source": [
        "print(\"Here is the graph with rooms:\")\n",
        "print(node_in)\n",
        "print(\"Here are the room nodes:\")\n",
        "print(rooms)\n",
        "print(\"Here is the room for each node:\")\n",
        "print(node_room)\n",
        "\n",
        "# non_rooms is the set of nodes that are not rooms\n",
        "non_rooms = [node for node in range(len(node_in)) if node not in rooms]\n",
        "\n",
        "# create the node names\n",
        "node_name = {node: \"Room \" + chr(ord('A') + rooms.index(node)) if node in rooms else \"Action \" + str(len(non_rooms) - non_rooms.index(node)) for node in range(len(node_in))}\n",
        "# set the name for the final node\n",
        "node_name[0] = \"Game End\""
      ],
      "metadata": {
        "colab": {
          "base_uri": "https://localhost:8080/"
        },
        "id": "ID8XRy2-GKvK",
        "outputId": "049dade1-7b1d-45fd-dfdf-ef7994b1a3cb"
      },
      "execution_count": 21,
      "outputs": [
        {
          "output_type": "stream",
          "name": "stdout",
          "text": [
            "Here is the graph with rooms:\n",
            "[[1], [2, 3, 4], [5], [6, 7, 8], [9, 2], [12], [12], [10], [11], [11], [], [], []]\n",
            "Here are the room nodes:\n",
            "[10, 11, 12, 1, 3]\n",
            "Here is the room for each node:\n",
            "[3, 1, 12, 3, 11, 12, 12, 10, 11, 11, 10, 11, 12]\n"
          ]
        }
      ]
    },
    {
      "cell_type": "code",
      "source": [
        "# @title Print out the adventure game graph\n",
        "\n",
        "for node in range(len(node_in)):\n",
        "    # create list of all in-link names for this node\n",
        "    node_in_names = []\n",
        "    for other_node in node_in[node]:\n",
        "        # only append non-rooms for conditions\n",
        "        if other_node in non_rooms:\n",
        "            node_in_names.append(node_name[other_node])\n",
        "\n",
        "    required = \", \".join(node_in_names)\n",
        "    required = \"nothing\" if required == \"\" else \"unlocking \" + required\n",
        "\n",
        "    if node in non_rooms:\n",
        "        print(f\"{node_name[node]} is available in {node_name[node_room[node]]} and requires\", required)\n",
        "    else:\n",
        "        print(f\"{node_name[node]} requires\", required)"
      ],
      "metadata": {
        "colab": {
          "base_uri": "https://localhost:8080/"
        },
        "id": "mngzNM6hGWw0",
        "outputId": "22ddadb1-2390-4f07-f581-eea69d86f02d"
      },
      "execution_count": 22,
      "outputs": [
        {
          "output_type": "stream",
          "name": "stdout",
          "text": [
            "Game End is available in Room E and requires nothing\n",
            "Room D requires unlocking Action 7, Action 6\n",
            "Action 7 is available in Room C and requires unlocking Action 5\n",
            "Room E requires unlocking Action 4, Action 3, Action 2\n",
            "Action 6 is available in Room B and requires unlocking Action 1, Action 7\n",
            "Action 5 is available in Room C and requires nothing\n",
            "Action 4 is available in Room C and requires nothing\n",
            "Action 3 is available in Room A and requires nothing\n",
            "Action 2 is available in Room B and requires nothing\n",
            "Action 1 is available in Room B and requires nothing\n",
            "Room A requires nothing\n",
            "Room B requires nothing\n",
            "Room C requires nothing\n"
          ]
        }
      ]
    },
    {
      "cell_type": "code",
      "source": [
        "# @title Visualize the adventure game graph\n",
        "\n",
        "def draw_network(G, pos, node_color, node_shape, node_name):\n",
        "    fig, ax = plt.subplots()\n",
        "\n",
        "    # Draw edges\n",
        "    nx.draw_networkx_edges(G, pos, ax=ax)\n",
        "\n",
        "    # Draw nodes with specified shapes and colors\n",
        "    for (node, color), (node, shape) in zip(node_color.items(), node_shape.items()):\n",
        "        # if node is a room, draw it as a square\n",
        "        nx.draw_networkx_nodes(G, pos, nodelist=[node], node_color=color, node_shape=shape, ax=ax)\n",
        "\n",
        "    # Draw custom labels\n",
        "    nx.draw_networkx_labels(G, pos, labels=node_name, ax=ax)\n",
        "\n",
        "    plt.axis('off')\n",
        "    plt.show()\n",
        "\n",
        "G = nx.DiGraph()\n",
        "for node, links in enumerate(node_in):\n",
        "    G.add_node(node)\n",
        "    for target in links:\n",
        "        G.add_edge(target, node)\n",
        "#pos = nx.shell_layout(G)\n",
        "pos = nx.spring_layout(G)\n",
        "# make sure the final node is at the top\n",
        "pos[0] = np.array([0, 1])\n",
        "# the node y coordinate depends on the number of steps the node is away from node 0\n",
        "for node in range(1, len(node_in)):\n",
        "    pos[node] = np.array([pos[node][0], 0.1 * len(node_ancestors[node])])\n",
        "\n",
        "# turn lists into dict\n",
        "node_room = {node: room for node, room in enumerate(node_room)}\n",
        "# create dict of nodes for shape: o is for rooms, s is for puzzles\n",
        "node_shape = {node: 'o' if node in rooms else 's' for node in range(len(node_in))}\n",
        "# create dict of node colors\n",
        "node_color = {node: plt.cm.rainbow(rooms.index(node_room[node]) / len(rooms)) for node in range(len(node_in))}\n",
        "\n",
        "print(\"Rooms are circles, puzzles are squares. The color of each node is the node's associated room (for puzzles: which rooms they take place in).\")\n",
        "draw_network(G, pos, node_color, node_shape, node_name)"
      ],
      "metadata": {
        "colab": {
          "base_uri": "https://localhost:8080/",
          "height": 480
        },
        "id": "UZPxADEAGYru",
        "outputId": "6731ad48-3a1d-4899-fdbf-012192e16af9"
      },
      "execution_count": 23,
      "outputs": [
        {
          "output_type": "stream",
          "name": "stdout",
          "text": [
            "Rooms are circles, puzzles are squares. The color of each node is the node's associated room (for puzzles: which rooms they take place in).\n"
          ]
        },
        {
          "output_type": "stream",
          "name": "stderr",
          "text": [
            "/usr/local/lib/python3.10/dist-packages/networkx/drawing/nx_pylab.py:437: UserWarning: *c* argument looks like a single numeric RGB or RGBA sequence, which should be avoided as value-mapping will have precedence in case its length matches with *x* & *y*.  Please use the *color* keyword-argument or provide a 2D array with a single row if you intend to specify the same RGB or RGBA value for all points.\n",
            "  node_collection = ax.scatter(\n"
          ]
        },
        {
          "output_type": "display_data",
          "data": {
            "text/plain": [
              "<Figure size 640x480 with 1 Axes>"
            ],
            "image/png": "[encoded data removed]"
          },
          "metadata": {}
        }
      ]
    }
  ]
}